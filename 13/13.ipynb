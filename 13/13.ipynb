{
 "cells": [
  {
   "cell_type": "code",
   "execution_count": 74,
   "metadata": {},
   "outputs": [],
   "source": [
    "def load_data(fp):\n",
    "    with open(fp, \"r\") as f:\n",
    "        data = f.read().split(\"\\n\")\n",
    "    timestamp = int(data[0])\n",
    "    buses = [int(bus_id) if bus_id != \"x\" else bus_id for bus_id in data[1].split(',')]\n",
    "    return timestamp, buses"
   ]
  },
  {
   "cell_type": "code",
   "execution_count": 75,
   "metadata": {},
   "outputs": [],
   "source": [
    "def count_minutes(timestamp, bus_id):\n",
    "    return bus_id - timestamp % bus_id\n",
    "\n",
    "def count_minutes_for_all(timestamp, bus_ids):\n",
    "    return {bus_id: count_minutes(timestamp, bus_id) for bus_id in bus_ids}\n",
    "\n",
    "def find_shortest_wait(timestamp, bus_ids):\n",
    "    minutes_to_wait = count_minutes_for_all(timestamp, bus_ids)    \n",
    "    shortest_wait = min(minutes_to_wait.items(), key=lambda x: x[1])\n",
    "    \n",
    "    return shortest_wait"
   ]
  },
  {
   "cell_type": "code",
   "execution_count": 76,
   "metadata": {},
   "outputs": [],
   "source": [
    "def first_task_solution(fp):\n",
    "    ts, b_ids = load_data(fp)\n",
    "    b_ids = [id_ for id_ in b_ids if isinstance(id_, int)]\n",
    "    time_to_wait, bus_id = find_shortest_wait(ts, b_ids)\n",
    "    return time_to_wait * bus_id"
   ]
  },
  {
   "cell_type": "code",
   "execution_count": 77,
   "metadata": {},
   "outputs": [],
   "source": [
    "assert first_task_solution(\"test_input.txt\") == 295"
   ]
  },
  {
   "cell_type": "code",
   "execution_count": 78,
   "metadata": {},
   "outputs": [
    {
     "data": {
      "text/plain": [
       "3035"
      ]
     },
     "execution_count": 78,
     "metadata": {},
     "output_type": "execute_result"
    }
   ],
   "source": [
    "first_task_solution(\"input.txt\")"
   ]
  },
  {
   "cell_type": "code",
   "execution_count": 341,
   "metadata": {},
   "outputs": [],
   "source": [
    "import math\n",
    "import operator\n",
    "from functools import reduce\n",
    "\n",
    "def lcm(x, y):\n",
    "    return (x * y) // math.gcd(x, y)\n",
    "\n",
    "def solve(buses, current_buses=None, timestamp=0):\n",
    "    if current_buses is None:\n",
    "        current_buses = [buses.pop(0)]\n",
    "    \n",
    "    try:\n",
    "        current_buses.append(buses.pop(0))\n",
    "    except IndexError:\n",
    "        return timestamp\n",
    "    \n",
    "    \n",
    "    time_jump = reduce(lcm, [id_ for id_, _ in current_buses[:-1]])\n",
    "    while any([timestamp % bus != (bus - delay) % bus for bus, delay in current_buses]):\n",
    "        timestamp += time_jump\n",
    "    \n",
    "    return solve(buses, current_buses, timestamp)\n",
    "        \n",
    "def second_task_solution(fp):\n",
    "    _, bus_ids = load_data(fp)\n",
    "    buses = [(id_, delay) for delay, id_ in enumerate(bus_ids) if isinstance(id_, int)]    \n",
    "    return solve(buses)"
   ]
  },
  {
   "cell_type": "code",
   "execution_count": 342,
   "metadata": {},
   "outputs": [
    {
     "data": {
      "text/plain": [
       "1068781"
      ]
     },
     "execution_count": 342,
     "metadata": {},
     "output_type": "execute_result"
    }
   ],
   "source": [
    "second_task_solution(\"test_input.txt\")"
   ]
  },
  {
   "cell_type": "code",
   "execution_count": 343,
   "metadata": {},
   "outputs": [],
   "source": [
    "assert second_task_solution(\"test_input.txt\") == 1068781"
   ]
  },
  {
   "cell_type": "code",
   "execution_count": 344,
   "metadata": {},
   "outputs": [
    {
     "data": {
      "text/plain": [
       "725169163285238"
      ]
     },
     "execution_count": 344,
     "metadata": {},
     "output_type": "execute_result"
    }
   ],
   "source": [
    "second_task_solution(\"input.txt\")"
   ]
  },
  {
   "cell_type": "code",
   "execution_count": null,
   "metadata": {},
   "outputs": [],
   "source": []
  }
 ],
 "metadata": {
  "kernelspec": {
   "display_name": "Python 3",
   "language": "python",
   "name": "python3"
  },
  "language_info": {
   "codemirror_mode": {
    "name": "ipython",
    "version": 3
   },
   "file_extension": ".py",
   "mimetype": "text/x-python",
   "name": "python",
   "nbconvert_exporter": "python",
   "pygments_lexer": "ipython3",
   "version": "3.7.3"
  }
 },
 "nbformat": 4,
 "nbformat_minor": 2
}

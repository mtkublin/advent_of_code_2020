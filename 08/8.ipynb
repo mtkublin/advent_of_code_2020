{
 "cells": [
  {
   "cell_type": "code",
   "execution_count": 1,
   "metadata": {},
   "outputs": [],
   "source": [
    "from copy import deepcopy"
   ]
  },
  {
   "cell_type": "code",
   "execution_count": 2,
   "metadata": {},
   "outputs": [],
   "source": [
    "TEST_PATH = \"test_input_8.txt\"\n",
    "PATH = \"input_8.txt\""
   ]
  },
  {
   "cell_type": "code",
   "execution_count": 33,
   "metadata": {},
   "outputs": [],
   "source": [
    "class InfiniteLoopEntered(Exception):\n",
    "    def __init__(self, idx, accumulator):\n",
    "        self.idx = idx\n",
    "        self.accumulator = accumulator\n",
    "        super().__init__(f\"Infinite loop entered on index {idx}; accumulator value: {accumulator}\")\n",
    "\n",
    "class Operator:\n",
    "    def __init__(self, file_name):\n",
    "        self.operations = self._read_data(file_name)\n",
    "        \n",
    "        self._next_idx = 0\n",
    "        self._executed_idxs = set()\n",
    "        \n",
    "        self.op_dict = {\"acc\": self.accumulate,\n",
    "                        \"jmp\": self.jump,\n",
    "                        \"nop\": self.no_operation}\n",
    "        \n",
    "        self.accumulator = 0\n",
    "        \n",
    "    def _read_data(self, file_name):\n",
    "        with open(file_name, \"r\") as f:\n",
    "            data = [(op, int(arg)) \n",
    "                    for idx, line in enumerate(f) \n",
    "                    for op, arg in [line[:-1].split() if line.endswith(\"\\n\") \n",
    "                                    else line.split()]]\n",
    "\n",
    "        return data\n",
    "    \n",
    "    def __iter__(self):\n",
    "        return self\n",
    "    \n",
    "    def __next__(self):        \n",
    "        if self._next_idx in self._executed_idxs:\n",
    "            raise InfiniteLoopEntered(self._next_idx, self.accumulator)\n",
    "        \n",
    "        try:\n",
    "            op = self.operations[self._next_idx]    \n",
    "        except IndexError:\n",
    "            raise StopIteration()\n",
    "        \n",
    "        self._executed_idxs.add(self._next_idx)\n",
    "            \n",
    "        self.operation_factory(*op)\n",
    "        \n",
    "        return op, self.accumulator\n",
    "    \n",
    "    def operation_factory(self, op_type, val):\n",
    "        self.op_dict[op_type](val)\n",
    "        \n",
    "    def accumulate(self, val):\n",
    "        self.accumulator += val\n",
    "        self._next_idx += 1\n",
    "\n",
    "    def jump(self, val):\n",
    "        self._next_idx += val\n",
    "\n",
    "    def no_operation(self, val): \n",
    "        self._next_idx += 1\n",
    "            \n",
    "    def __reset(self):\n",
    "        self.accumulator = 0\n",
    "        self._next_idx = 0\n",
    "        self._executed_idxs = set()\n",
    "        \n",
    "    def check_if_looped(self):\n",
    "        while True:\n",
    "            try:\n",
    "                next(self)\n",
    "            except InfiniteLoopEntered:\n",
    "                self.__reset()\n",
    "                return True\n",
    "            except StopIteration:\n",
    "                return False\n",
    "    \n",
    "    def _patch_operation(self, idx):\n",
    "        swap_dict = {\"jmp\": \"nop\", \"nop\": \"jmp\"}\n",
    "        op_type, op_val = self.operations[idx]\n",
    "        if op_type not in swap_dict:\n",
    "            return None\n",
    "        prev_op = deepcopy(self.operations[idx])\n",
    "        self.operations[idx] = (swap_dict[op_type], op_val)\n",
    "        return prev_op, self.operations[idx]\n",
    "        \n",
    "    def patch_self(self):\n",
    "        for idx in range(len(self.operations)):\n",
    "            try:\n",
    "                prev, op = self._patch_operation(idx)\n",
    "            except TypeError:\n",
    "                continue\n",
    "                \n",
    "            if self.check_if_looped():\n",
    "                self._patch_operation(idx)\n",
    "                continue\n",
    "                \n",
    "            return idx, prev, op"
   ]
  },
  {
   "cell_type": "code",
   "execution_count": 37,
   "metadata": {},
   "outputs": [
    {
     "name": "stdout",
     "output_type": "stream",
     "text": [
      "True\n",
      "2477\n"
     ]
    }
   ],
   "source": [
    "op = Operator(PATH)\n",
    "\n",
    "print(op.check_if_looped())\n",
    "op.patch_self()\n",
    "\n",
    "try:\n",
    "    performed_ops = [x for x in op]\n",
    "except InfiniteLoopEntered as e:\n",
    "    print(e)\n",
    "else:\n",
    "    print(op.accumulator)"
   ]
  },
  {
   "cell_type": "code",
   "execution_count": null,
   "metadata": {},
   "outputs": [],
   "source": []
  }
 ],
 "metadata": {
  "kernelspec": {
   "display_name": "Python 3",
   "language": "python",
   "name": "python3"
  },
  "language_info": {
   "codemirror_mode": {
    "name": "ipython",
    "version": 3
   },
   "file_extension": ".py",
   "mimetype": "text/x-python",
   "name": "python",
   "nbconvert_exporter": "python",
   "pygments_lexer": "ipython3",
   "version": "3.7.3"
  }
 },
 "nbformat": 4,
 "nbformat_minor": 2
}

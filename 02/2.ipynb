{
 "cells": [
  {
   "cell_type": "code",
   "execution_count": 1,
   "metadata": {},
   "outputs": [],
   "source": [
    "import re\n",
    "from collections import Counter"
   ]
  },
  {
   "cell_type": "code",
   "execution_count": 6,
   "metadata": {},
   "outputs": [],
   "source": [
    "def check_if_valid_p_one(line):\n",
    "    line = re.sub(\"\\n\", \"\", line)\n",
    "        \n",
    "    policy, password = line.split(\": \")\n",
    "    policy_nbs, policy_letter = policy.split(\" \")\n",
    "    bottom, top = policy_nbs.split(\"-\")\n",
    "    bottom, top = int(bottom), int(top)\n",
    "\n",
    "    letter_counts = Counter(password)\n",
    "\n",
    "    policy_letter_count = letter_counts.get(policy_letter, -1)\n",
    "    \n",
    "    return bottom <= policy_letter_count <= top"
   ]
  },
  {
   "cell_type": "code",
   "execution_count": 7,
   "metadata": {},
   "outputs": [
    {
     "data": {
      "text/plain": [
       "424"
      ]
     },
     "execution_count": 7,
     "metadata": {},
     "output_type": "execute_result"
    }
   ],
   "source": [
    "with open(\"input_2.txt\", \"r\") as f:\n",
    "    result = [check_if_valid_p_one(l) for l in f]\n",
    "len([x for x in result if x])"
   ]
  },
  {
   "cell_type": "code",
   "execution_count": 11,
   "metadata": {},
   "outputs": [],
   "source": [
    "def check_if_valid_p_two(line):\n",
    "    line = re.sub(\"\\n\", \"\", line)\n",
    "        \n",
    "    policy, password = line.split(\": \")\n",
    "    policy_nbs, policy_letter = policy.split(\" \")\n",
    "    bottom, top = policy_nbs.split(\"-\")\n",
    "    bottom, top = int(bottom), int(top)\n",
    "    \n",
    "    letters_to_check = {password[x-1] for x in (top, bottom)}\n",
    "    \n",
    "    return len(letters_to_check) == 2 and policy_letter in letters_to_check "
   ]
  },
  {
   "cell_type": "code",
   "execution_count": 12,
   "metadata": {},
   "outputs": [
    {
     "data": {
      "text/plain": [
       "747"
      ]
     },
     "execution_count": 12,
     "metadata": {},
     "output_type": "execute_result"
    }
   ],
   "source": [
    "with open(\"input_2.txt\", \"r\") as f:\n",
    "    result = [check_if_valid_p_two(l) for l in f]\n",
    "len([x for x in result if x])"
   ]
  },
  {
   "cell_type": "code",
   "execution_count": null,
   "metadata": {},
   "outputs": [],
   "source": []
  }
 ],
 "metadata": {
  "kernelspec": {
   "display_name": "Python 3",
   "language": "python",
   "name": "python3"
  },
  "language_info": {
   "codemirror_mode": {
    "name": "ipython",
    "version": 3
   },
   "file_extension": ".py",
   "mimetype": "text/x-python",
   "name": "python",
   "nbconvert_exporter": "python",
   "pygments_lexer": "ipython3",
   "version": "3.7.3"
  }
 },
 "nbformat": 4,
 "nbformat_minor": 2
}

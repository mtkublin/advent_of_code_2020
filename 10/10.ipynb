{
 "cells": [
  {
   "cell_type": "code",
   "execution_count": 2,
   "metadata": {},
   "outputs": [],
   "source": [
    "from collections import Counter"
   ]
  },
  {
   "cell_type": "code",
   "execution_count": 2,
   "metadata": {},
   "outputs": [],
   "source": [
    "def load_adapters(fp):\n",
    "    with open(fp, \"r\") as f:\n",
    "        joltages = sorted([int(l) for l in f])\n",
    "        \n",
    "    return [0, *joltages, max(joltages) + 3]"
   ]
  },
  {
   "cell_type": "code",
   "execution_count": 3,
   "metadata": {},
   "outputs": [
    {
     "data": {
      "text/plain": [
       "[0, 1, 4, 5, 6, 7, 10, 11, 12, 15, 16, 19, 22]"
      ]
     },
     "execution_count": 3,
     "metadata": {},
     "output_type": "execute_result"
    }
   ],
   "source": [
    "load_adapters(\"test_input_10_1.txt\")"
   ]
  },
  {
   "cell_type": "code",
   "execution_count": 4,
   "metadata": {},
   "outputs": [],
   "source": [
    "def get_diffs(adapters):\n",
    "    for i, adpt in enumerate(adapters[1:]):\n",
    "        yield adpt - adapters[i]\n",
    "        \n",
    "def count_diffs(adapters):\n",
    "    return dict(sorted(Counter([diff for diff in get_diffs(adapters)]).items(), key=lambda x: x[0]))"
   ]
  },
  {
   "cell_type": "code",
   "execution_count": 6,
   "metadata": {},
   "outputs": [
    {
     "data": {
      "text/plain": [
       "1876"
      ]
     },
     "execution_count": 6,
     "metadata": {},
     "output_type": "execute_result"
    }
   ],
   "source": [
    "res = count_diffs(load_adapters(\"input_10.txt\"))\n",
    "res[1] * res[3]"
   ]
  },
  {
   "cell_type": "code",
   "execution_count": 95,
   "metadata": {},
   "outputs": [],
   "source": [
    "from collections import defaultdict\n",
    "\n",
    "class AdapterGraph:\n",
    "    def __init__(self, fp=\"input_10.txt\"):\n",
    "        self.adapters = self._load_adapters(fp)\n",
    "        self.graph = self._build_graph()\n",
    "            \n",
    "    @staticmethod\n",
    "    def _load_adapters(fp):\n",
    "        with open(fp, \"r\") as f:\n",
    "            joltages = sorted([int(l) for l in f])\n",
    "\n",
    "        return [0, *joltages, max(joltages) + 3]\n",
    "    \n",
    "    def _build_graph(self):\n",
    "        return {\n",
    "            adpt: [nxt for nxt in self.adapters[i+1:i+4] if nxt - adpt <= 3]\n",
    "            for i, adpt in enumerate(self.adapters)\n",
    "        }\n",
    "    \n",
    "    def count_paths(self):\n",
    "        path_count = 1\n",
    "        open_paths = defaultdict(list)\n",
    "        for adpt in self.adapters:\n",
    "            possible_next_steps = self.graph[adpt]\n",
    "            \n",
    "            if adpt in open_paths:\n",
    "                path_count += sum(open_paths.pop(adpt))\n",
    "            \n",
    "            for nxt in possible_next_steps[1:]:\n",
    "                open_paths[nxt].append(path_count)\n",
    "            \n",
    "        return path_count"
   ]
  },
  {
   "cell_type": "code",
   "execution_count": 105,
   "metadata": {},
   "outputs": [
    {
     "data": {
      "text/plain": [
       "14173478093824"
      ]
     },
     "execution_count": 105,
     "metadata": {},
     "output_type": "execute_result"
    }
   ],
   "source": [
    "ag = AdapterGraph()\n",
    "ag.count_paths()"
   ]
  },
  {
   "cell_type": "code",
   "execution_count": null,
   "metadata": {},
   "outputs": [],
   "source": []
  }
 ],
 "metadata": {
  "kernelspec": {
   "display_name": "Python 3",
   "language": "python",
   "name": "python3"
  },
  "language_info": {
   "codemirror_mode": {
    "name": "ipython",
    "version": 3
   },
   "file_extension": ".py",
   "mimetype": "text/x-python",
   "name": "python",
   "nbconvert_exporter": "python",
   "pygments_lexer": "ipython3",
   "version": "3.7.3"
  }
 },
 "nbformat": 4,
 "nbformat_minor": 2
}
